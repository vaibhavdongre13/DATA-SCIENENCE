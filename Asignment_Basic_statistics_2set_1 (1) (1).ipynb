{
  "nbformat": 4,
  "nbformat_minor": 0,
  "metadata": {
    "colab": {
      "provenance": []
    },
    "kernelspec": {
      "name": "python3",
      "display_name": "Python 3"
    },
    "language_info": {
      "name": "python"
    }
  },
  "cells": [
    {
      "cell_type": "markdown",
      "source": [
        "1.\tLook at the data given below. Plot the data, find the outliers and find out  μ,σ,σ^2\n",
        "\n",
        " Name of company\t      Measure X\n",
        "\n",
        " Allied Signal\t            24.23%\n",
        "\n",
        " Bankers Trust\t            25.53%\n",
        "\n",
        " General Mills\t            25.41%\n",
        "\n",
        " Industries\t                24.14%\n",
        "\n",
        " J.P.Morgan & Co.\t          29.62%\n",
        "\n",
        " Lehman Brothers\t          28.25%\n",
        "\n",
        " Marriott\t                  25.81%\n",
        "\n",
        " MCI\t                      24.39%\n",
        "\n",
        " Merrill Lynch\t            40.26%\n",
        "\n",
        " Microsoft\t                32.95%\n",
        "\n",
        " Morgan Stanley\t            91.36%\n",
        "\n",
        " Sun Microsystems\t          25.99%\n",
        "\n",
        " Travelers\t                39.42%\n",
        "\n",
        " US Airways\t                26.71%\n",
        "\n",
        " Warner-Lambert\t            35.00%\n",
        "\n"
      ],
      "metadata": {
        "id": "5vOdh6SeCfIc"
      }
    },
    {
      "cell_type": "code",
      "source": [
        "from scipy import stats\n",
        "import numpy as np\n",
        "import statistics as st\n",
        "import pandas as pd\n",
        "import matplotlib.pyplot as plt\n",
        "import math\n"
      ],
      "metadata": {
        "id": "ISypc8DrFn9f"
      },
      "execution_count": null,
      "outputs": []
    },
    {
      "cell_type": "code",
      "source": [
        "Df_1=pd.DataFrame({'Company':['Allied Signal',\n",
        "'Bankers Trust',\n",
        "'General Mills',\n",
        "'ITT Industries',\n",
        "'J.P.Morgan & Co',\n",
        "'Lehman Brothers',\n",
        "'Marriott',\n",
        "'MCI',\n",
        "'Merrill Lynch',\n",
        "'Microsoft',\n",
        "'Morgan Stanley',\n",
        "'Sun Microsystems',\n",
        "'Travelers',\n",
        "'US Airways',\n",
        "'Warner-Lambert'],'Measurex':[24.23,25.53,25.41,24.14,29.62,28.25,25.81,24.39,40.26,32.95,91.36,25.99,39.42,26.71,35.00]})\n",
        "Df_1\n",
        "#measure_X=pd.Series([24.23,25.53,25.41,24.14,29.62,28.25,25.81,24.39,40.26,32.95,91.36,25.99,39.42,26.71,35.00])\n",
        "#measure_X"
      ],
      "metadata": {
        "id": "KOasiLl7EWV9",
        "colab": {
          "base_uri": "https://localhost:8080/",
          "height": 519
        },
        "outputId": "64fe236a-32d4-4f8e-82ba-0074917cb324"
      },
      "execution_count": null,
      "outputs": [
        {
          "output_type": "execute_result",
          "data": {
            "text/plain": [
              "             Company  Measurex\n",
              "0      Allied Signal     24.23\n",
              "1      Bankers Trust     25.53\n",
              "2      General Mills     25.41\n",
              "3     ITT Industries     24.14\n",
              "4    J.P.Morgan & Co     29.62\n",
              "5    Lehman Brothers     28.25\n",
              "6           Marriott     25.81\n",
              "7                MCI     24.39\n",
              "8      Merrill Lynch     40.26\n",
              "9          Microsoft     32.95\n",
              "10    Morgan Stanley     91.36\n",
              "11  Sun Microsystems     25.99\n",
              "12         Travelers     39.42\n",
              "13        US Airways     26.71\n",
              "14    Warner-Lambert     35.00"
            ],
            "text/html": [
              "\n",
              "  <div id=\"df-3feb94d4-b272-4818-8bd9-7a57472f2cfd\">\n",
              "    <div class=\"colab-df-container\">\n",
              "      <div>\n",
              "<style scoped>\n",
              "    .dataframe tbody tr th:only-of-type {\n",
              "        vertical-align: middle;\n",
              "    }\n",
              "\n",
              "    .dataframe tbody tr th {\n",
              "        vertical-align: top;\n",
              "    }\n",
              "\n",
              "    .dataframe thead th {\n",
              "        text-align: right;\n",
              "    }\n",
              "</style>\n",
              "<table border=\"1\" class=\"dataframe\">\n",
              "  <thead>\n",
              "    <tr style=\"text-align: right;\">\n",
              "      <th></th>\n",
              "      <th>Company</th>\n",
              "      <th>Measurex</th>\n",
              "    </tr>\n",
              "  </thead>\n",
              "  <tbody>\n",
              "    <tr>\n",
              "      <th>0</th>\n",
              "      <td>Allied Signal</td>\n",
              "      <td>24.23</td>\n",
              "    </tr>\n",
              "    <tr>\n",
              "      <th>1</th>\n",
              "      <td>Bankers Trust</td>\n",
              "      <td>25.53</td>\n",
              "    </tr>\n",
              "    <tr>\n",
              "      <th>2</th>\n",
              "      <td>General Mills</td>\n",
              "      <td>25.41</td>\n",
              "    </tr>\n",
              "    <tr>\n",
              "      <th>3</th>\n",
              "      <td>ITT Industries</td>\n",
              "      <td>24.14</td>\n",
              "    </tr>\n",
              "    <tr>\n",
              "      <th>4</th>\n",
              "      <td>J.P.Morgan &amp; Co</td>\n",
              "      <td>29.62</td>\n",
              "    </tr>\n",
              "    <tr>\n",
              "      <th>5</th>\n",
              "      <td>Lehman Brothers</td>\n",
              "      <td>28.25</td>\n",
              "    </tr>\n",
              "    <tr>\n",
              "      <th>6</th>\n",
              "      <td>Marriott</td>\n",
              "      <td>25.81</td>\n",
              "    </tr>\n",
              "    <tr>\n",
              "      <th>7</th>\n",
              "      <td>MCI</td>\n",
              "      <td>24.39</td>\n",
              "    </tr>\n",
              "    <tr>\n",
              "      <th>8</th>\n",
              "      <td>Merrill Lynch</td>\n",
              "      <td>40.26</td>\n",
              "    </tr>\n",
              "    <tr>\n",
              "      <th>9</th>\n",
              "      <td>Microsoft</td>\n",
              "      <td>32.95</td>\n",
              "    </tr>\n",
              "    <tr>\n",
              "      <th>10</th>\n",
              "      <td>Morgan Stanley</td>\n",
              "      <td>91.36</td>\n",
              "    </tr>\n",
              "    <tr>\n",
              "      <th>11</th>\n",
              "      <td>Sun Microsystems</td>\n",
              "      <td>25.99</td>\n",
              "    </tr>\n",
              "    <tr>\n",
              "      <th>12</th>\n",
              "      <td>Travelers</td>\n",
              "      <td>39.42</td>\n",
              "    </tr>\n",
              "    <tr>\n",
              "      <th>13</th>\n",
              "      <td>US Airways</td>\n",
              "      <td>26.71</td>\n",
              "    </tr>\n",
              "    <tr>\n",
              "      <th>14</th>\n",
              "      <td>Warner-Lambert</td>\n",
              "      <td>35.00</td>\n",
              "    </tr>\n",
              "  </tbody>\n",
              "</table>\n",
              "</div>\n",
              "      <button class=\"colab-df-convert\" onclick=\"convertToInteractive('df-3feb94d4-b272-4818-8bd9-7a57472f2cfd')\"\n",
              "              title=\"Convert this dataframe to an interactive table.\"\n",
              "              style=\"display:none;\">\n",
              "        \n",
              "  <svg xmlns=\"http://www.w3.org/2000/svg\" height=\"24px\"viewBox=\"0 0 24 24\"\n",
              "       width=\"24px\">\n",
              "    <path d=\"M0 0h24v24H0V0z\" fill=\"none\"/>\n",
              "    <path d=\"M18.56 5.44l.94 2.06.94-2.06 2.06-.94-2.06-.94-.94-2.06-.94 2.06-2.06.94zm-11 1L8.5 8.5l.94-2.06 2.06-.94-2.06-.94L8.5 2.5l-.94 2.06-2.06.94zm10 10l.94 2.06.94-2.06 2.06-.94-2.06-.94-.94-2.06-.94 2.06-2.06.94z\"/><path d=\"M17.41 7.96l-1.37-1.37c-.4-.4-.92-.59-1.43-.59-.52 0-1.04.2-1.43.59L10.3 9.45l-7.72 7.72c-.78.78-.78 2.05 0 2.83L4 21.41c.39.39.9.59 1.41.59.51 0 1.02-.2 1.41-.59l7.78-7.78 2.81-2.81c.8-.78.8-2.07 0-2.86zM5.41 20L4 18.59l7.72-7.72 1.47 1.35L5.41 20z\"/>\n",
              "  </svg>\n",
              "      </button>\n",
              "      \n",
              "  <style>\n",
              "    .colab-df-container {\n",
              "      display:flex;\n",
              "      flex-wrap:wrap;\n",
              "      gap: 12px;\n",
              "    }\n",
              "\n",
              "    .colab-df-convert {\n",
              "      background-color: #E8F0FE;\n",
              "      border: none;\n",
              "      border-radius: 50%;\n",
              "      cursor: pointer;\n",
              "      display: none;\n",
              "      fill: #1967D2;\n",
              "      height: 32px;\n",
              "      padding: 0 0 0 0;\n",
              "      width: 32px;\n",
              "    }\n",
              "\n",
              "    .colab-df-convert:hover {\n",
              "      background-color: #E2EBFA;\n",
              "      box-shadow: 0px 1px 2px rgba(60, 64, 67, 0.3), 0px 1px 3px 1px rgba(60, 64, 67, 0.15);\n",
              "      fill: #174EA6;\n",
              "    }\n",
              "\n",
              "    [theme=dark] .colab-df-convert {\n",
              "      background-color: #3B4455;\n",
              "      fill: #D2E3FC;\n",
              "    }\n",
              "\n",
              "    [theme=dark] .colab-df-convert:hover {\n",
              "      background-color: #434B5C;\n",
              "      box-shadow: 0px 1px 3px 1px rgba(0, 0, 0, 0.15);\n",
              "      filter: drop-shadow(0px 1px 2px rgba(0, 0, 0, 0.3));\n",
              "      fill: #FFFFFF;\n",
              "    }\n",
              "  </style>\n",
              "\n",
              "      <script>\n",
              "        const buttonEl =\n",
              "          document.querySelector('#df-3feb94d4-b272-4818-8bd9-7a57472f2cfd button.colab-df-convert');\n",
              "        buttonEl.style.display =\n",
              "          google.colab.kernel.accessAllowed ? 'block' : 'none';\n",
              "\n",
              "        async function convertToInteractive(key) {\n",
              "          const element = document.querySelector('#df-3feb94d4-b272-4818-8bd9-7a57472f2cfd');\n",
              "          const dataTable =\n",
              "            await google.colab.kernel.invokeFunction('convertToInteractive',\n",
              "                                                     [key], {});\n",
              "          if (!dataTable) return;\n",
              "\n",
              "          const docLinkHtml = 'Like what you see? Visit the ' +\n",
              "            '<a target=\"_blank\" href=https://colab.research.google.com/notebooks/data_table.ipynb>data table notebook</a>'\n",
              "            + ' to learn more about interactive tables.';\n",
              "          element.innerHTML = '';\n",
              "          dataTable['output_type'] = 'display_data';\n",
              "          await google.colab.output.renderOutput(dataTable, element);\n",
              "          const docLink = document.createElement('div');\n",
              "          docLink.innerHTML = docLinkHtml;\n",
              "          element.appendChild(docLink);\n",
              "        }\n",
              "      </script>\n",
              "    </div>\n",
              "  </div>\n",
              "  "
            ]
          },
          "metadata": {},
          "execution_count": 160
        }
      ]
    },
    {
      "cell_type": "code",
      "source": [
        "Mean1=Df_1['Measurex'].mean()\n",
        "Variance1=Df_1['Measurex'].var()\n",
        "STD1=Df_1['Measurex'].std()\n",
        "print(\"The Mean is:\",Mean1,\"The Variance is:\",Variance1,\"The standard Deviation is:\",STD1)"
      ],
      "metadata": {
        "id": "3b30WAYREyWe",
        "colab": {
          "base_uri": "https://localhost:8080/"
        },
        "outputId": "616d402b-4d49-4998-aad8-0894205b563e"
      },
      "execution_count": null,
      "outputs": [
        {
          "output_type": "stream",
          "name": "stdout",
          "text": [
            "The Mean is: 33.27133333333333 The Variance is: 287.1466123809524 The standard Deviation is: 16.945400921222028\n"
          ]
        }
      ]
    },
    {
      "cell_type": "code",
      "source": [
        "#Plot the graph \n",
        "plt.figure(figsize=(5,5))\n",
        "plt.boxplot(Df_1['Measurex'],meanline=True,showmeans=True,data=True)\n",
        "#xlabel:(\"Company\",Size=10)\n",
        "#ylabel:(\"Measure of X\",Size=10)"
      ],
      "metadata": {
        "id": "mnORJE9rFs4M",
        "colab": {
          "base_uri": "https://localhost:8080/",
          "height": 459
        },
        "outputId": "ee0b8465-5f09-405a-9032-bb3596fce7a5"
      },
      "execution_count": null,
      "outputs": [
        {
          "output_type": "execute_result",
          "data": {
            "text/plain": [
              "{'whiskers': [<matplotlib.lines.Line2D at 0x7f120dedbf10>,\n",
              "  <matplotlib.lines.Line2D at 0x7f120dedd2b0>],\n",
              " 'caps': [<matplotlib.lines.Line2D at 0x7f120dedd610>,\n",
              "  <matplotlib.lines.Line2D at 0x7f120dedd970>],\n",
              " 'boxes': [<matplotlib.lines.Line2D at 0x7f120dedbbb0>],\n",
              " 'medians': [<matplotlib.lines.Line2D at 0x7f120deddcd0>],\n",
              " 'fliers': [<matplotlib.lines.Line2D at 0x7f120dee9370>],\n",
              " 'means': [<matplotlib.lines.Line2D at 0x7f120deddfd0>]}"
            ]
          },
          "metadata": {},
          "execution_count": 24
        },
        {
          "output_type": "display_data",
          "data": {
            "text/plain": [
              "<Figure size 360x360 with 1 Axes>"
            ],
            "image/png": "[encoded data removed]"
          },
          "metadata": {
            "needs_background": "light"
          }
        }
      ]
    },
    {
      "cell_type": "code",
      "source": [],
      "metadata": {
        "id": "hEL0doETJpdr"
      },
      "execution_count": null,
      "outputs": []
    },
    {
      "cell_type": "code",
      "source": [
        "#To find the outliers\n",
        "Q_1=np.quantile(Df_1[\"Measurex\"],0.25)\n",
        "Q_3=np.quantile(Df_1[\"Measurex\"],0.75)\n",
        "Interquartile=Q_3-Q_1\n",
        "lowerlimit=Q_1-1.5*Interquartile\n",
        "Higherlimit=Q_3+1.5*Interquartile\n",
        "Lower_outlier=[]\n",
        "Higher_outlier=[]\n",
        "for i in Df_1['Measurex']:\n",
        "  if i<lowerlimit:\n",
        "    Lower_outlier=i\n",
        "  elif i>Higherlimit:\n",
        "    Higher_outlier=i\n",
        "print(\"Lower outlier is\",Lower_outlier)\n",
        "print(\"Higher outlier is\",Higher_outlier)"
      ],
      "metadata": {
        "colab": {
          "base_uri": "https://localhost:8080/"
        },
        "id": "qixjZoWzYTOS",
        "outputId": "4a92a672-ece9-4546-db03-2d2a685d1319"
      },
      "execution_count": null,
      "outputs": [
        {
          "output_type": "stream",
          "name": "stdout",
          "text": [
            "Lower outlier is []\n",
            "Higher outlier is 91.36\n"
          ]
        }
      ]
    },
    {
      "cell_type": "markdown",
      "source": [
        "**2.**\t\n",
        " ![image.png](data:image/png;base64,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)\n",
        "Answer the following three questions based on the box-plot above.\n",
        "\n",
        "(i)\tWhat is inter-quartile range of this dataset? (please approximate the numbers) In one line, explain what this value implies.\n",
        "\n",
        "(ii)\tWhat can we say about the skewness of this dataset?\n",
        "\n",
        "(iii)\tIf it was found that the data point with the value 25 is actually 2.5, how would the new box-plot be affected?\n",
        "\n",
        "**Ans:**\n",
        "\n",
        "(i)  IQR=Q3-Q1=12-5=7\n",
        "              Interquartile range is the difference of 3rd and 1st quartiles in a dataset. (Dispersion of Data\n",
        "\n",
        "(ii) Skewness of this Data is Right skewed because the Data concentrated more in left side so RHS will be Skewed.\n",
        "\n",
        "(iii)The median will reduce and Interquartile range will be more into LHS of graph Than RHS due to the less value 2.5 added with dataset. Median shifted to left side\n",
        "\n"
      ],
      "metadata": {
        "id": "L7j08rxmaIjy"
      }
    },
    {
      "cell_type": "markdown",
      "source": [
        "**3.**\n",
        "\n",
        "![image.png](data:image/png;base64,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)\n",
        "\n",
        "\n",
        "\n",
        "\n",
        "\n",
        "Answer the following three questions based on the histogram above.\n",
        "\n",
        "(i)\tWhere would the mode of this dataset lie?\n",
        "\n",
        "(ii)\tComment on the skewness of the dataset.\t\n",
        "\n",
        "(iii)\tSuppose that the above histogram and the box-plot in question 2 are plotted for the same dataset. Explain how these graphs complement each other in providing information about any dataset. \n",
        "\n",
        "**Ans:**\n",
        "\n",
        "(i) (Between 4 and 8)\n",
        "\n",
        "(ii)Its Right skewed because the maximum frequency came on LHS of the graph and mode and mean in LHS.\n",
        "\n",
        "(iii)Both Data set shows its Right Skewed and more data are concentrated in LHS and maximum data are CONCENTRATED in LHS. So, the IQR of box plot and the datasets or graph in Histogram also shown in LHS shift. And there is one outlier in RHS shown both in Boxplot and Histogram. But from Histogram we will get exact information about frequency value which not value wise shown in Boxplot. But the median shown in Box plot that we can’t get Exact value easily from Histogram.\n"
      ],
      "metadata": {
        "id": "LfgvrjbHSs8G"
      }
    },
    {
      "cell_type": "markdown",
      "source": [
        "**4.**AT&T was running commercials in 1990 aimed at luring back customers who \n",
        "had switched to one of the other long-distance phone service providers. \n",
        " One such commercial shows a businessman trying to reach Phoenix and mistakenly \n",
        " getting Fiji, where a half-naked native on a beach responds incomprehensibly in\n",
        "Polynesian. When asked about this advertisement, AT&T admitted that the portrayed \n",
        "incident did not actually take place but added that this was an enactment of something \n",
        "that “could happen.” Suppose that one in 200 long-distance telephone calls is misdirected.\n",
        "What is the probability that at least one in five attempted telephone calls reaches the wrong number?\n",
        "(Assume independence of attempts.)"
      ],
      "metadata": {
        "id": "1CZdvdB_xNvb"
      }
    },
    {
      "cell_type": "code",
      "source": [
        "# What is the probability that at least one in five attempted telephone calls reaches the wrong number?\n",
        "(1/5)*(1/200)"
      ],
      "metadata": {
        "id": "WsgKey-O5VIa",
        "colab": {
          "base_uri": "https://localhost:8080/"
        },
        "outputId": "99026043-7117-489c-9c76-ea7cc8ba6bc2"
      },
      "execution_count": null,
      "outputs": [
        {
          "output_type": "execute_result",
          "data": {
            "text/plain": [
              "0.001"
            ]
          },
          "metadata": {},
          "execution_count": 15
        }
      ]
    },
    {
      "cell_type": "markdown",
      "source": [
        "**5.**\n",
        "\n",
        "Returns on a certain business venture, to the nearest $1,000, are known to follow the following probability distribution\n",
        "     x        \tP(x)\n",
        "  -2,000\t      0.1\n",
        "  -1,000\t      0.1\n",
        "     0\t        0.2\n",
        "   1000\t        0.2\n",
        "   2000\t        0.3\n",
        "   3000\t        0.1\n",
        "\n",
        "(i)\tWhat is the most likely monetary outcome of the business venture?\n",
        "\n",
        "(ii)\tIs the venture likely to be successful? Explain\n",
        "\n",
        "(iii)\tWhat is the long-term average earning of business ventures of this kind? Explain\n",
        "\n",
        "(iv)\tWhat is the good measure of the risk involved in a venture of this kind? Compute this measure\n"
      ],
      "metadata": {
        "id": "YXzQlZWHBBz6"
      }
    },
    {
      "cell_type": "code",
      "source": [
        "#cREATING THE DATAFRAME\n",
        "Df_5=pd.DataFrame({'x':['-2000','-1000','0','1000','2000','3000'],'PX':[0.1,0.1,0.2,0.2,0.3,0.1]})\n",
        "\n",
        "\n"
      ],
      "metadata": {
        "id": "qeOsAuXkDOQC"
      },
      "execution_count": null,
      "outputs": []
    },
    {
      "cell_type": "code",
      "source": [
        "Df_5"
      ],
      "metadata": {
        "id": "0AIaNJZvIs9R",
        "colab": {
          "base_uri": "https://localhost:8080/",
          "height": 237
        },
        "outputId": "fc8ac681-8806-41a3-f08a-3dd2ffef0962"
      },
      "execution_count": null,
      "outputs": [
        {
          "output_type": "execute_result",
          "data": {
            "text/plain": [
              "       x   PX\n",
              "0  -2000  0.1\n",
              "1  -1000  0.1\n",
              "2      0  0.2\n",
              "3   1000  0.2\n",
              "4   2000  0.3\n",
              "5   3000  0.1"
            ],
            "text/html": [
              "\n",
              "  <div id=\"df-1b86c78e-5c52-4337-8d9e-7620c304e2df\">\n",
              "    <div class=\"colab-df-container\">\n",
              "      <div>\n",
              "<style scoped>\n",
              "    .dataframe tbody tr th:only-of-type {\n",
              "        vertical-align: middle;\n",
              "    }\n",
              "\n",
              "    .dataframe tbody tr th {\n",
              "        vertical-align: top;\n",
              "    }\n",
              "\n",
              "    .dataframe thead th {\n",
              "        text-align: right;\n",
              "    }\n",
              "</style>\n",
              "<table border=\"1\" class=\"dataframe\">\n",
              "  <thead>\n",
              "    <tr style=\"text-align: right;\">\n",
              "      <th></th>\n",
              "      <th>x</th>\n",
              "      <th>PX</th>\n",
              "    </tr>\n",
              "  </thead>\n",
              "  <tbody>\n",
              "    <tr>\n",
              "      <th>0</th>\n",
              "      <td>-2000</td>\n",
              "      <td>0.1</td>\n",
              "    </tr>\n",
              "    <tr>\n",
              "      <th>1</th>\n",
              "      <td>-1000</td>\n",
              "      <td>0.1</td>\n",
              "    </tr>\n",
              "    <tr>\n",
              "      <th>2</th>\n",
              "      <td>0</td>\n",
              "      <td>0.2</td>\n",
              "    </tr>\n",
              "    <tr>\n",
              "      <th>3</th>\n",
              "      <td>1000</td>\n",
              "      <td>0.2</td>\n",
              "    </tr>\n",
              "    <tr>\n",
              "      <th>4</th>\n",
              "      <td>2000</td>\n",
              "      <td>0.3</td>\n",
              "    </tr>\n",
              "    <tr>\n",
              "      <th>5</th>\n",
              "      <td>3000</td>\n",
              "      <td>0.1</td>\n",
              "    </tr>\n",
              "  </tbody>\n",
              "</table>\n",
              "</div>\n",
              "      <button class=\"colab-df-convert\" onclick=\"convertToInteractive('df-1b86c78e-5c52-4337-8d9e-7620c304e2df')\"\n",
              "              title=\"Convert this dataframe to an interactive table.\"\n",
              "              style=\"display:none;\">\n",
              "        \n",
              "  <svg xmlns=\"http://www.w3.org/2000/svg\" height=\"24px\"viewBox=\"0 0 24 24\"\n",
              "       width=\"24px\">\n",
              "    <path d=\"M0 0h24v24H0V0z\" fill=\"none\"/>\n",
              "    <path d=\"M18.56 5.44l.94 2.06.94-2.06 2.06-.94-2.06-.94-.94-2.06-.94 2.06-2.06.94zm-11 1L8.5 8.5l.94-2.06 2.06-.94-2.06-.94L8.5 2.5l-.94 2.06-2.06.94zm10 10l.94 2.06.94-2.06 2.06-.94-2.06-.94-.94-2.06-.94 2.06-2.06.94z\"/><path d=\"M17.41 7.96l-1.37-1.37c-.4-.4-.92-.59-1.43-.59-.52 0-1.04.2-1.43.59L10.3 9.45l-7.72 7.72c-.78.78-.78 2.05 0 2.83L4 21.41c.39.39.9.59 1.41.59.51 0 1.02-.2 1.41-.59l7.78-7.78 2.81-2.81c.8-.78.8-2.07 0-2.86zM5.41 20L4 18.59l7.72-7.72 1.47 1.35L5.41 20z\"/>\n",
              "  </svg>\n",
              "      </button>\n",
              "      \n",
              "  <style>\n",
              "    .colab-df-container {\n",
              "      display:flex;\n",
              "      flex-wrap:wrap;\n",
              "      gap: 12px;\n",
              "    }\n",
              "\n",
              "    .colab-df-convert {\n",
              "      background-color: #E8F0FE;\n",
              "      border: none;\n",
              "      border-radius: 50%;\n",
              "      cursor: pointer;\n",
              "      display: none;\n",
              "      fill: #1967D2;\n",
              "      height: 32px;\n",
              "      padding: 0 0 0 0;\n",
              "      width: 32px;\n",
              "    }\n",
              "\n",
              "    .colab-df-convert:hover {\n",
              "      background-color: #E2EBFA;\n",
              "      box-shadow: 0px 1px 2px rgba(60, 64, 67, 0.3), 0px 1px 3px 1px rgba(60, 64, 67, 0.15);\n",
              "      fill: #174EA6;\n",
              "    }\n",
              "\n",
              "    [theme=dark] .colab-df-convert {\n",
              "      background-color: #3B4455;\n",
              "      fill: #D2E3FC;\n",
              "    }\n",
              "\n",
              "    [theme=dark] .colab-df-convert:hover {\n",
              "      background-color: #434B5C;\n",
              "      box-shadow: 0px 1px 3px 1px rgba(0, 0, 0, 0.15);\n",
              "      filter: drop-shadow(0px 1px 2px rgba(0, 0, 0, 0.3));\n",
              "      fill: #FFFFFF;\n",
              "    }\n",
              "  </style>\n",
              "\n",
              "      <script>\n",
              "        const buttonEl =\n",
              "          document.querySelector('#df-1b86c78e-5c52-4337-8d9e-7620c304e2df button.colab-df-convert');\n",
              "        buttonEl.style.display =\n",
              "          google.colab.kernel.accessAllowed ? 'block' : 'none';\n",
              "\n",
              "        async function convertToInteractive(key) {\n",
              "          const element = document.querySelector('#df-1b86c78e-5c52-4337-8d9e-7620c304e2df');\n",
              "          const dataTable =\n",
              "            await google.colab.kernel.invokeFunction('convertToInteractive',\n",
              "                                                     [key], {});\n",
              "          if (!dataTable) return;\n",
              "\n",
              "          const docLinkHtml = 'Like what you see? Visit the ' +\n",
              "            '<a target=\"_blank\" href=https://colab.research.google.com/notebooks/data_table.ipynb>data table notebook</a>'\n",
              "            + ' to learn more about interactive tables.';\n",
              "          element.innerHTML = '';\n",
              "          dataTable['output_type'] = 'display_data';\n",
              "          await google.colab.output.renderOutput(dataTable, element);\n",
              "          const docLink = document.createElement('div');\n",
              "          docLink.innerHTML = docLinkHtml;\n",
              "          element.appendChild(docLink);\n",
              "        }\n",
              "      </script>\n",
              "    </div>\n",
              "  </div>\n",
              "  "
            ]
          },
          "metadata": {},
          "execution_count": 137
        }
      ]
    },
    {
      "cell_type": "code",
      "source": [
        "#(i)\tWhat is the most likely monetary outcome of the business venture?\n",
        " \n",
        "max5=Df_5['PX'].max()\n",
        "Most_likely_monetary_outcome=Df_5[Df_5['PX']==max5]\n",
        "\n",
        "Most_likely_monetary_outcome"
      ],
      "metadata": {
        "colab": {
          "base_uri": "https://localhost:8080/",
          "height": 81
        },
        "id": "VqVYas1FD6vJ",
        "outputId": "a8450ab9-ccbd-442d-9e04-b2a53ba9bdcd"
      },
      "execution_count": null,
      "outputs": [
        {
          "output_type": "execute_result",
          "data": {
            "text/plain": [
              "      x   PX\n",
              "4  2000  0.3"
            ],
            "text/html": [
              "\n",
              "  <div id=\"df-1c322427-1594-44b7-b8c6-f446574df0e0\">\n",
              "    <div class=\"colab-df-container\">\n",
              "      <div>\n",
              "<style scoped>\n",
              "    .dataframe tbody tr th:only-of-type {\n",
              "        vertical-align: middle;\n",
              "    }\n",
              "\n",
              "    .dataframe tbody tr th {\n",
              "        vertical-align: top;\n",
              "    }\n",
              "\n",
              "    .dataframe thead th {\n",
              "        text-align: right;\n",
              "    }\n",
              "</style>\n",
              "<table border=\"1\" class=\"dataframe\">\n",
              "  <thead>\n",
              "    <tr style=\"text-align: right;\">\n",
              "      <th></th>\n",
              "      <th>x</th>\n",
              "      <th>PX</th>\n",
              "    </tr>\n",
              "  </thead>\n",
              "  <tbody>\n",
              "    <tr>\n",
              "      <th>4</th>\n",
              "      <td>2000</td>\n",
              "      <td>0.3</td>\n",
              "    </tr>\n",
              "  </tbody>\n",
              "</table>\n",
              "</div>\n",
              "      <button class=\"colab-df-convert\" onclick=\"convertToInteractive('df-1c322427-1594-44b7-b8c6-f446574df0e0')\"\n",
              "              title=\"Convert this dataframe to an interactive table.\"\n",
              "              style=\"display:none;\">\n",
              "        \n",
              "  <svg xmlns=\"http://www.w3.org/2000/svg\" height=\"24px\"viewBox=\"0 0 24 24\"\n",
              "       width=\"24px\">\n",
              "    <path d=\"M0 0h24v24H0V0z\" fill=\"none\"/>\n",
              "    <path d=\"M18.56 5.44l.94 2.06.94-2.06 2.06-.94-2.06-.94-.94-2.06-.94 2.06-2.06.94zm-11 1L8.5 8.5l.94-2.06 2.06-.94-2.06-.94L8.5 2.5l-.94 2.06-2.06.94zm10 10l.94 2.06.94-2.06 2.06-.94-2.06-.94-.94-2.06-.94 2.06-2.06.94z\"/><path d=\"M17.41 7.96l-1.37-1.37c-.4-.4-.92-.59-1.43-.59-.52 0-1.04.2-1.43.59L10.3 9.45l-7.72 7.72c-.78.78-.78 2.05 0 2.83L4 21.41c.39.39.9.59 1.41.59.51 0 1.02-.2 1.41-.59l7.78-7.78 2.81-2.81c.8-.78.8-2.07 0-2.86zM5.41 20L4 18.59l7.72-7.72 1.47 1.35L5.41 20z\"/>\n",
              "  </svg>\n",
              "      </button>\n",
              "      \n",
              "  <style>\n",
              "    .colab-df-container {\n",
              "      display:flex;\n",
              "      flex-wrap:wrap;\n",
              "      gap: 12px;\n",
              "    }\n",
              "\n",
              "    .colab-df-convert {\n",
              "      background-color: #E8F0FE;\n",
              "      border: none;\n",
              "      border-radius: 50%;\n",
              "      cursor: pointer;\n",
              "      display: none;\n",
              "      fill: #1967D2;\n",
              "      height: 32px;\n",
              "      padding: 0 0 0 0;\n",
              "      width: 32px;\n",
              "    }\n",
              "\n",
              "    .colab-df-convert:hover {\n",
              "      background-color: #E2EBFA;\n",
              "      box-shadow: 0px 1px 2px rgba(60, 64, 67, 0.3), 0px 1px 3px 1px rgba(60, 64, 67, 0.15);\n",
              "      fill: #174EA6;\n",
              "    }\n",
              "\n",
              "    [theme=dark] .colab-df-convert {\n",
              "      background-color: #3B4455;\n",
              "      fill: #D2E3FC;\n",
              "    }\n",
              "\n",
              "    [theme=dark] .colab-df-convert:hover {\n",
              "      background-color: #434B5C;\n",
              "      box-shadow: 0px 1px 3px 1px rgba(0, 0, 0, 0.15);\n",
              "      filter: drop-shadow(0px 1px 2px rgba(0, 0, 0, 0.3));\n",
              "      fill: #FFFFFF;\n",
              "    }\n",
              "  </style>\n",
              "\n",
              "      <script>\n",
              "        const buttonEl =\n",
              "          document.querySelector('#df-1c322427-1594-44b7-b8c6-f446574df0e0 button.colab-df-convert');\n",
              "        buttonEl.style.display =\n",
              "          google.colab.kernel.accessAllowed ? 'block' : 'none';\n",
              "\n",
              "        async function convertToInteractive(key) {\n",
              "          const element = document.querySelector('#df-1c322427-1594-44b7-b8c6-f446574df0e0');\n",
              "          const dataTable =\n",
              "            await google.colab.kernel.invokeFunction('convertToInteractive',\n",
              "                                                     [key], {});\n",
              "          if (!dataTable) return;\n",
              "\n",
              "          const docLinkHtml = 'Like what you see? Visit the ' +\n",
              "            '<a target=\"_blank\" href=https://colab.research.google.com/notebooks/data_table.ipynb>data table notebook</a>'\n",
              "            + ' to learn more about interactive tables.';\n",
              "          element.innerHTML = '';\n",
              "          dataTable['output_type'] = 'display_data';\n",
              "          await google.colab.output.renderOutput(dataTable, element);\n",
              "          const docLink = document.createElement('div');\n",
              "          docLink.innerHTML = docLinkHtml;\n",
              "          element.appendChild(docLink);\n",
              "        }\n",
              "      </script>\n",
              "    </div>\n",
              "  </div>\n",
              "  "
            ]
          },
          "metadata": {},
          "execution_count": 138
        }
      ]
    },
    {
      "cell_type": "code",
      "source": [
        "#(ii)Is the venture likely to be successful? Explain\n",
        "#VENTURE WILL BE SUCCES IF X POSITIVE\n",
        "Success=Df_5[Df_5['x']>'0']\n",
        "total_success=0\n",
        "for i in Success['PX']:\n",
        "  total_success=total_success+float(i)\n",
        "if total_success>0.5:\n",
        "  print(\"venture likely to be successful;\",total_success,'>0.5')\n",
        "else:\n",
        "  print(\"venture not likely to be successful;\",total_success,'<0.5')\n",
        "\n",
        "\n",
        "\n"
      ],
      "metadata": {
        "id": "Y6XFRhCxFGdC",
        "colab": {
          "base_uri": "https://localhost:8080/"
        },
        "outputId": "daf04e72-d86f-473f-a255-37528672e343"
      },
      "execution_count": null,
      "outputs": [
        {
          "output_type": "stream",
          "name": "stdout",
          "text": [
            "venture likely to be successful; 0.6 >0.5\n"
          ]
        }
      ]
    },
    {
      "cell_type": "code",
      "source": [
        "#(iii)What is the long-term average earning of business ventures of this kind? Explain\n",
        "#E(X)=SUM(x.P(x))\n",
        "Df_5=Df_5.astype(float)\n",
        "EX=Df_5.product(axis=1).sum()\n",
        "EX\n"
      ],
      "metadata": {
        "colab": {
          "base_uri": "https://localhost:8080/"
        },
        "id": "VJmjxR9LqOry",
        "outputId": "443593fe-efc7-4cd0-a782-d90e1f18001a"
      },
      "execution_count": null,
      "outputs": [
        {
          "output_type": "execute_result",
          "data": {
            "text/plain": [
              "800.0"
            ]
          },
          "metadata": {},
          "execution_count": 165
        }
      ]
    },
    {
      "cell_type": "code",
      "source": [
        "#(iv)\tWhat is the good measure of the risk involved in a venture of this kind? Compute this measure\n",
        "#variance=E(x^2)-E(x)^2\n",
        "k1=Df_5.loc[:,'x']\n",
        "k2=Df_5.loc[:,'PX']\n",
        "T=k1*k1*k2\n",
        "Var=T.sum()-(EX)**2\n",
        "Var\n",
        "STD=math.sqrt(Var)\n",
        "STD"
      ],
      "metadata": {
        "colab": {
          "base_uri": "https://localhost:8080/"
        },
        "id": "4TinZq6hxTuw",
        "outputId": "3a5dee43-4865-4f82-efdc-75773f6179e8"
      },
      "execution_count": null,
      "outputs": [
        {
          "output_type": "execute_result",
          "data": {
            "text/plain": [
              "1469.6938456699068"
            ]
          },
          "metadata": {},
          "execution_count": 169
        }
      ]
    },
    {
      "cell_type": "code",
      "source": [
        "#STD is 1469.694 so its very high Hence the stock is in risky."
      ],
      "metadata": {
        "id": "u4m_9i2F0-xV"
      },
      "execution_count": null,
      "outputs": []
    },
    {
      "cell_type": "code",
      "source": [],
      "metadata": {
        "id": "GXe46cFr68s3"
      },
      "execution_count": null,
      "outputs": []
    }
  ]
}