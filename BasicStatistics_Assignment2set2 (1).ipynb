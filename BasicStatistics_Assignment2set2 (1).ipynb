{
  "nbformat": 4,
  "nbformat_minor": 0,
  "metadata": {
    "colab": {
      "provenance": []
    },
    "kernelspec": {
      "name": "python3",
      "display_name": "Python 3"
    },
    "language_info": {
      "name": "python"
    }
  },
  "cells": [
    {
      "cell_type": "code",
      "source": [
        "from scipy import stats\n",
        "import scipy.stats as stats\n",
        "import statistics as st\n",
        "import pandas as pd\n",
        "import numpy as np"
      ],
      "metadata": {
        "id": "84eTtXr8WxZC"
      },
      "execution_count": null,
      "outputs": []
    },
    {
      "cell_type": "code",
      "execution_count": null,
      "metadata": {
        "id": "lX1Dm8_yPERB"
      },
      "outputs": [],
      "source": [
        "# 1. The time required for servicing transmissions is normally distributed with m=45 minutes \n",
        "# and s = 8 minutes. The service manager plans to have work begin on the transmission of a \n",
        "# customer’s car 10 minutes after the car is dropped off and the customer is told that the car\n",
        "# will be ready within 1 hour from drop-off. What is the probability that the service manager cannot meet his commitment?\n",
        "\n",
        "#A. 0.3875\n",
        "\n",
        "#B. 0.2676\n",
        "\n",
        "#C. 0.5\n",
        "\n",
        "#D. 0.6987"
      ]
    },
    {
      "cell_type": "code",
      "source": [
        "mean=45+10\n",
        "X=60\n",
        "STD=8\n",
        "Z=(X-mean)/STD\n",
        "print(\"Z is:\",Z)\n",
        "stats.norm.cdf(Z)\n",
        "\n",
        "\n"
      ],
      "metadata": {
        "colab": {
          "base_uri": "https://localhost:8080/"
        },
        "id": "90sO7ThLVBNT",
        "outputId": "17d93621-8485-42aa-ad99-9c9bd0a1e07e"
      },
      "execution_count": null,
      "outputs": [
        {
          "output_type": "stream",
          "name": "stdout",
          "text": [
            "Z is: 0.625\n"
          ]
        },
        {
          "output_type": "execute_result",
          "data": {
            "text/plain": [
              "0.7340144709512995"
            ]
          },
          "metadata": {},
          "execution_count": 3
        }
      ]
    },
    {
      "cell_type": "code",
      "source": [
        "#probability that the service manager cannot meet his commitment\n",
        "1-stats.norm.cdf(Z)\n",
        "# So answer is B."
      ],
      "metadata": {
        "colab": {
          "base_uri": "https://localhost:8080/"
        },
        "id": "jw-tVw7QXeMv",
        "outputId": "6b321795-cf1f-459b-be1b-39174134f108"
      },
      "execution_count": null,
      "outputs": [
        {
          "output_type": "execute_result",
          "data": {
            "text/plain": [
              "0.26598552904870054"
            ]
          },
          "metadata": {},
          "execution_count": 4
        }
      ]
    },
    {
      "cell_type": "code",
      "source": [
        "#2.The current age (in years) of 400 clerical employees at an insurance claims \n",
        "#  processing center is normally distributed with mean m = 38 and Standard deviation s =6. \n",
        "#  For each statement below, please specify True/False. If false, briefly explain why.\n",
        "\n",
        "#  A. More employees at the processing center are older than 44 than between 38 and 44.\n",
        "\n",
        "#  B. A training program for employees under the age of 30 at the center would be expected to attract about 36 employees."
      ],
      "metadata": {
        "id": "-ikofSmtREj0"
      },
      "execution_count": null,
      "outputs": []
    },
    {
      "cell_type": "code",
      "source": [],
      "metadata": {
        "id": "fkUtCtjNWvnO"
      },
      "execution_count": null,
      "outputs": []
    },
    {
      "cell_type": "code",
      "source": [
        "#  A. More employees at the processing center are older than 44 than between 38 and 44.\n",
        "Mean2=38\n",
        "STD2=6\n",
        "#Z Score=(Value-Mean)/(STD2)\n",
        "#Z for above 44:\n",
        "Z44=(44-Mean2)/STD2\n",
        "z44p=stats.norm.cdf(Z44)\n",
        "#People above 44 age:\n",
        "print('People above 44 age:',round((1-z44p)*400,0))\n",
        "#People above 44 age:\n",
        "round((1-z44p),2)*400\n",
        "#people between 38 and 44 age:\n",
        "Z38=(38-Mean2)/STD2\n",
        "z38p=stats.norm.cdf(Z38)\n",
        "Z44_z38=round((z44p-z38p)*400,0)\n",
        "print('People between 38 and 44 age:',Z44_z38)\n"
      ],
      "metadata": {
        "colab": {
          "base_uri": "https://localhost:8080/"
        },
        "id": "HYJCA-rzWX5w",
        "outputId": "f75a8fc7-7735-4a8f-ba16-3aa1fc60c5d6"
      },
      "execution_count": null,
      "outputs": [
        {
          "output_type": "stream",
          "name": "stdout",
          "text": [
            "People above 44 age: 63.0\n",
            "People between 38 and 44 age: 137.0\n"
          ]
        }
      ]
    },
    {
      "cell_type": "markdown",
      "source": [
        "More employees at the processing center are older than 44 than between \n",
        "38 and 44 is a False statement since more people between age 38 and 44 than above 44."
      ],
      "metadata": {
        "id": "IH9vUBExZpKD"
      }
    },
    {
      "cell_type": "code",
      "source": [
        "#B. A training program for employees under the age of 30 at the center \n",
        "# would be expected to attract about 36 employees.\n",
        "z30=(30-Mean2)/STD2\n",
        "z30p=stats.norm.cdf(z30)\n",
        "#employees under the age of 30 at the center\n",
        "round(z30p*400,0)\n",
        "\n"
      ],
      "metadata": {
        "id": "7dVsjYMmg_SC"
      },
      "execution_count": null,
      "outputs": []
    },
    {
      "cell_type": "markdown",
      "source": [
        "True statement-B"
      ],
      "metadata": {
        "id": "b6oqiSNOi0Rd"
      }
    },
    {
      "cell_type": "markdown",
      "source": [
        "**4.**\tLet X ~ N(100, 20**2). Find two values, a and b, symmetric about the mean, \n",
        "such that the probability of the random variable taking a value between them is 0.99. \n",
        "\n",
        "A.\t90.5, 105.9 \n",
        "\n",
        "B.\t80.2, 119.8 \n",
        "\n",
        "C.\t22, 78 \n",
        "\n",
        "D.\t48.5, 151.5 \n",
        "\n",
        "E.\t90.1, 109.9\n",
        "    \n"
      ],
      "metadata": {
        "id": "4kxPZB5bi1r-"
      }
    },
    {
      "cell_type": "code",
      "source": [
        "MEAN=100\n",
        "STD=20\n",
        "#WE NEED TO FIND a and b .So the probability of the random variable taking a value between them is 0.99.\n",
        "#So Probability of random variable taking a value outside (a,b) region\n",
        "P_OUT=1-0.99\n",
        "#Left side of a and right side of b probability is:\n",
        "P_aL=(1-0.99)/2\n",
        "P_bR=-(1-0.99)/2\n",
        "#So the interval of a and b have probabilty of 0.99 is:\n",
        "Interval=stats.norm.interval(0.99,MEAN,STD)\n",
        "print(\"Values of a and b are:\",Interval)\n",
        "#Answer is D"
      ],
      "metadata": {
        "id": "tnW1NRaGi2BX",
        "colab": {
          "base_uri": "https://localhost:8080/"
        },
        "outputId": "3ef45ee5-093c-449c-f0bd-d72db4f140ff"
      },
      "execution_count": null,
      "outputs": [
        {
          "output_type": "stream",
          "name": "stdout",
          "text": [
            "Values of a and b are: (48.48341392902199, 151.516586070978)\n"
          ]
        }
      ]
    },
    {
      "cell_type": "markdown",
      "source": [
        "**5.**\tConsider a company that has two different divisions. The annual profits\n",
        "from the two divisions are independent and have distributions Profit1 ~ N(5, 3**2) \n",
        "and Profit2 ~ N(7, 4**2) respectively. Both the profits are in Million$. \n",
        "\n",
        "Answer the following questions about the total profit of the company in Rupees. \n",
        "Assume that $1 = Rs. 45\n",
        "\n",
        "**A**.\tSpecify a Rupee range (centered on the mean) such that it contains 95% probability \n",
        "     for the annual profit of the company.\n",
        "\n",
        "**B.**\tSpecify the 5th percentile of profit (in Rupees) for the company\n",
        "\n",
        "**C.**\tWhich of the two divisions has a larger probability of making a loss in a given year?\n"
      ],
      "metadata": {
        "id": "tOu2G0qLi2U7"
      }
    },
    {
      "cell_type": "code",
      "source": [
        "mean1=5*45\n",
        "print(\"Mean of department1 in $:\",mean1,\"Million\")\n",
        "std1=3\n",
        "mean2=7*45\n",
        "print(\"Mean of department1 in $:\",mean2,\"Million\")\n",
        "std2=4\n",
        "#A Rupee range (centered on the mean) such that it contains 95% probability for the annual profit of the company\n",
        "mean_company=mean1+mean2\n",
        "STD_company=np.sqrt(9+16)*45\n",
        "rupee_range=stats.norm.interval(0.95,mean_company,STD_company)\n",
        "print(\"The mean of the company in Million$ is:\",mean_company)\n",
        "print(\"The STD of the company in Million$ is:\",STD_company)\n",
        "print(\"Rupee rangecontains 95% probability for the annual profit of the company:\",rupee_range,\"in Million$\")\n",
        "\n",
        "\n"
      ],
      "metadata": {
        "id": "ZMJPEt4WjUAT",
        "colab": {
          "base_uri": "https://localhost:8080/"
        },
        "outputId": "4f718b34-ffb2-4545-af5b-766eb98d8170"
      },
      "execution_count": null,
      "outputs": [
        {
          "output_type": "stream",
          "name": "stdout",
          "text": [
            "Mean of department1 in $: 225 Million\n",
            "Mean of department1 in $: 315 Million\n",
            "The mean of the company in Million$ is: 540\n",
            "The STD of the company in Million$ is: 225.0\n",
            "Rupee rangecontains 95% probability for the annual profit of the company: (99.00810347848784, 980.9918965215122) in Million$\n"
          ]
        }
      ]
    },
    {
      "cell_type": "code",
      "source": [
        "from numpy.lib.function_base import percentile\n",
        "# B.Specify the 5th percentile of profit (in Rupees) for the company\n",
        "# 5TH PERCENTILE VALUE FROM Z TABLE\n",
        "z_5=stats.norm.ppf(0.05)\n",
        "z_5\n",
        "#5th percentile of profit is from Z=(X-Mean)/STD\n",
        "X=(z_5*STD_company)+mean_company\n",
        "print(\"5th percentile of profit (in Rupees) for the company in Million$:\",X)\n"
      ],
      "metadata": {
        "id": "MNLfkMI6kora",
        "colab": {
          "base_uri": "https://localhost:8080/"
        },
        "outputId": "22cbb292-897e-4eb2-837c-9d74d4115573"
      },
      "execution_count": null,
      "outputs": [
        {
          "output_type": "stream",
          "name": "stdout",
          "text": [
            "5th percentile of profit (in Rupees) for the company in Million$: 169.9079339359186\n"
          ]
        }
      ]
    },
    {
      "cell_type": "code",
      "source": [
        "# C.Which of the two divisions has a larger probability of making a loss in a given year?\n",
        "probability_loss_1=stats.norm.cdf(0,5,3)\n",
        "probability_loss_2=stats.norm.cdf(0,7,4)\n",
        "print(\"probability of making loss by department 1:\",probability_loss_1)\n",
        "print(\"probability of making loss by department 2:\",probability_loss_2)\n"
      ],
      "metadata": {
        "colab": {
          "base_uri": "https://localhost:8080/"
        },
        "id": "jdHSQK6Lp3Gx",
        "outputId": "dca78361-91c9-4a4c-b36e-23ab300f04a3"
      },
      "execution_count": null,
      "outputs": [
        {
          "output_type": "stream",
          "name": "stdout",
          "text": [
            "probability of making loss by department 1: 0.0477903522728147\n",
            "probability of making loss by department 2: 0.040059156863817086\n"
          ]
        }
      ]
    },
    {
      "cell_type": "code",
      "source": [],
      "metadata": {
        "id": "gopGdTuHuiCr"
      },
      "execution_count": null,
      "outputs": []
    }
  ]
}